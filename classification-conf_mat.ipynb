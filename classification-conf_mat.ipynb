{
 "cells": [
  {
   "cell_type": "markdown",
   "id": "3bf837e2",
   "metadata": {},
   "source": [
    "# Weather Classification"
   ]
  },
  {
   "cell_type": "markdown",
   "id": "51b7c375",
   "metadata": {},
   "source": [
    "In this task, I applied a simple Convolutional Neural Network (CNN) on the dataset to classify weather images into 4 categories of cloudy, rain, shine, and sunrise. The dataset contains 836 images of different sizes and channels. \n",
    "\n",
    "The CNN Model has 4 convolutional layers. RelU activation function is applied right after each convolution layer and then the output is max pooled. I used 3 fully connected layers at the end of the CNN. Adding the fully-connected layers helps learn non-linear combinations of the high-level features outputted by the convolutional layers. Also to avoid overfitting of the model I used batchNormalization on convolutional layers and Dropouts on the fully connected layers.\n",
    "\n",
    "\n",
    "### Data exploration: \n",
    "The dataset was uncleaned. Other than RGB (3-channels) images there is(are) at least a grayscale image (1-channel) and a 4-channels image. I also find images are used more than once with were either resized or flipped. \n",
    "\n",
    "The image datases is devided to training data and validation data split ( 80% - 20% ).\n",
    "The images are resized to 64x64 images. The larger images would make the training slower, and small images would reduce the accuracy of the training. \n",
    "\n"
   ]
  },
  {
   "cell_type": "markdown",
   "id": "ae15f788",
   "metadata": {},
   "source": [
    "# Code"
   ]
  },
  {
   "cell_type": "markdown",
   "id": "d9c6f53c",
   "metadata": {},
   "source": [
    "I have included small explanations for each step of the code. I have run the code on my cpu. General steps are as follows:\n",
    "- Read all images\n",
    "- Clean and resize images \n",
    "- Split images to train/test sets\n",
    "- Define a Convolutional Neural Network\n",
    "- Train the model and evaluate the trained model\n",
    "- Use the model\n",
    "\n",
    "The requirements for running the code: \n",
    "\n",
    "- Jupyter notebook\n",
    "- pytorch\n",
    "- torchvision\n",
    "- torchsummary \n",
    "- matplotlib\n",
    "- skimage\n",
    "- tqdm\n"
   ]
  },
  {
   "cell_type": "code",
   "execution_count": 6,
   "id": "9783792a",
   "metadata": {},
   "outputs": [],
   "source": [
    "import glob\n",
    "import numpy as np\n",
    "import os, sys\n",
    "\n",
    "# read the image list\n",
    "image_list = glob.glob('./data/*.jpg')"
   ]
  },
  {
   "cell_type": "code",
   "execution_count": 7,
   "id": "7f2d7712",
   "metadata": {},
   "outputs": [
    {
     "name": "stdout",
     "output_type": "stream",
     "text": [
      "836\n"
     ]
    }
   ],
   "source": [
    "print(len(image_list))"
   ]
  },
  {
   "cell_type": "code",
   "execution_count": 8,
   "id": "2ae5e91a",
   "metadata": {},
   "outputs": [],
   "source": [
    "import tqdm\n",
    "from skimage import io, transform\n",
    "import torch\n",
    "import torchvision\n",
    "import torchvision.transforms as transforms\n",
    "from torch.utils.data import Dataset, DataLoader\n",
    "from torch.utils.data.sampler import SubsetRandomSampler"
   ]
  },
  {
   "cell_type": "code",
   "execution_count": null,
   "id": "b32fad5a",
   "metadata": {},
   "outputs": [],
   "source": []
  },
  {
   "cell_type": "markdown",
   "id": "0d88da2f",
   "metadata": {},
   "source": [
    "Function resize_img() resize the original images to 64x64 images and also checks for images of different channles and adjust them to a 3-channel image."
   ]
  },
  {
   "cell_type": "code",
   "execution_count": null,
   "id": "5b3b6da1",
   "metadata": {},
   "outputs": [],
   "source": [
    "# resize (64x64) and save images\n",
    "oldpath = \"./data/\"\n",
    "path = \"./resized/\"\n",
    "\n",
    "def resize_img(image_list):\n",
    "    for img_name in tqdm.tqdm(image_list):\n",
    "        image = io.imread(img_name)\n",
    "        image_resized = transform.resize(image, (64, 64),anti_aliasing=True)\n",
    "        if len(image_resized.shape) == 2:\n",
    "            image_resized = np.tile(np.expand_dims(image_resized, axis=-1), (1,1,3))\n",
    "        assert len(image_resized.shape) == 3, f'{img_name} - {image_resized.shape}'        \n",
    "        image_resized = image_resized[:, :, :3]\n",
    "        assert image_resized.shape == (64, 64, 3), f'{img_name} - {image_resized.shape}'\n",
    "        basename = os.path.basename(img_name)\n",
    "        image_resized = (image_resized * 255).astype(np.uint8)\n",
    "        io.imsave(os.path.join(path,basename).replace('.jpg', '.png') , image_resized)\n",
    "\n",
    "resize_img(image_list)"
   ]
  },
  {
   "cell_type": "code",
   "execution_count": 9,
   "id": "245e1b04",
   "metadata": {},
   "outputs": [],
   "source": [
    "#read from resized images\n",
    "resized_image_list = glob.glob('./resized/*.png')"
   ]
  },
  {
   "cell_type": "markdown",
   "id": "17a585a8",
   "metadata": {},
   "source": [
    "A class made for dataset. A class of dataset makes it easier for accessing images and their labels. "
   ]
  },
  {
   "cell_type": "code",
   "execution_count": 10,
   "id": "01ceaa82",
   "metadata": {},
   "outputs": [],
   "source": [
    "class weatherDataset(Dataset):\n",
    "    \"\"\"weather Dataset.\"\"\"\n",
    "\n",
    "    def __init__(self, image_list, image_labels):\n",
    "        self.images = image_list\n",
    "        self.labels = image_labels\n",
    "\n",
    "    def __len__(self):\n",
    "        return len(self.images)\n",
    "\n",
    "    def __getitem__(self, idx):\n",
    "        if torch.is_tensor(idx):\n",
    "            idx = idx.tolist()\n",
    "\n",
    "        img_name = self.images[idx]\n",
    "        image = io.imread(img_name)\n",
    "        label = self.labels[idx]\n",
    "        image = np.transpose(image, (2,0,1)) # transpose the images to macth the tensor format \n",
    "        image = image[:3,:,:]\n",
    "        assert image.shape == (3, 64, 64), f'{img_name} - {image.shape}'\n",
    "        \n",
    "        return image,label"
   ]
  },
  {
   "cell_type": "markdown",
   "id": "2af7a768",
   "metadata": {},
   "source": [
    "I used 80/20 split for training and testing."
   ]
  },
  {
   "cell_type": "code",
   "execution_count": 27,
   "id": "5a3fab51",
   "metadata": {},
   "outputs": [],
   "source": [
    "train_size = int(0.8 * len(resized_image_list))\n",
    "valid_size = int(0.1 * len(resized_image_list))\n",
    "test_size = len(resized_image_list) - (train_size + valid_size)\n",
    "train_imageList, valid_imageList, test_imageList = torch.utils.data.random_split(resized_image_list, [train_size, valid_size, test_size])"
   ]
  },
  {
   "cell_type": "code",
   "execution_count": 28,
   "id": "55b8d114",
   "metadata": {},
   "outputs": [
    {
     "name": "stdout",
     "output_type": "stream",
     "text": [
      "668\n",
      "85\n",
      "83\n"
     ]
    }
   ],
   "source": [
    "print(len(train_imageList))\n",
    "print(len(test_imageList))\n",
    "print(len(valid_imageList))"
   ]
  },
  {
   "cell_type": "code",
   "execution_count": 29,
   "id": "29ef475a",
   "metadata": {},
   "outputs": [],
   "source": [
    "# a sinple function to map the images with their labels\n",
    "def map_filename_to_label(filename):\n",
    "    if 'cloudy' in filename:\n",
    "        return 0\n",
    "    elif 'rain' in filename:\n",
    "        return 1\n",
    "    elif 'shine' in filename:\n",
    "        return 2\n",
    "    elif 'sunrise' in filename:\n",
    "        return 3\n",
    "    \n",
    "# \n",
    "valid_labels = list(map(map_filename_to_label, valid_imageList))\n",
    "test_labels = list(map(map_filename_to_label, test_imageList))\n",
    "train_labels = list(map(map_filename_to_label, train_imageList))"
   ]
  },
  {
   "cell_type": "code",
   "execution_count": 30,
   "id": "9f3bf34b",
   "metadata": {},
   "outputs": [],
   "source": [
    "# Two datasets are defined for training and test images.  \n",
    "trainData = weatherDataset(train_imageList, train_labels)\n",
    "testData = weatherDataset(test_imageList, test_labels)\n",
    "validData = weatherDataset(test_imageList, test_labels)"
   ]
  },
  {
   "cell_type": "markdown",
   "id": "3319a3e6",
   "metadata": {},
   "source": [
    "Pytorch function DataLoader used to load datasets for traing and testing. I set the batch_size = 4 (larger amounts would cause runtime error). "
   ]
  },
  {
   "cell_type": "code",
   "execution_count": 31,
   "id": "4dcd105c",
   "metadata": {},
   "outputs": [],
   "source": [
    "trainLoader = DataLoader(trainData, batch_size=4, shuffle=True, num_workers=0,\n",
    "           drop_last=True, prefetch_factor=2)\n",
    "testLoader = DataLoader(testData, batch_size=4, shuffle=False, num_workers=0,\n",
    "           drop_last=True, prefetch_factor=2)\n",
    "validLoader = DataLoader(validData, batch_size=4, shuffle=False, num_workers=0,\n",
    "           drop_last=True, prefetch_factor=2)"
   ]
  },
  {
   "cell_type": "markdown",
   "id": "7df6ed3c",
   "metadata": {},
   "source": [
    "Here you see some example images from training set."
   ]
  },
  {
   "cell_type": "code",
   "execution_count": 32,
   "id": "abc9b82f",
   "metadata": {},
   "outputs": [
    {
     "data": {
      "image/png": "[encoded data removed]",
      "text/plain": [
       "<Figure size 432x288 with 1 Axes>"
      ]
     },
     "metadata": {
      "needs_background": "light"
     },
     "output_type": "display_data"
    },
    {
     "name": "stdout",
     "output_type": "stream",
     "text": [
      "./resized\\cloudy233.png ./resized\\cloudy233.png ./resized\\shine43.png ./resized\\cloudy233.png\n"
     ]
    }
   ],
   "source": [
    "import matplotlib.pyplot as plt\n",
    "\n",
    "# functions to show an image\n",
    "\n",
    "batch_size = 4\n",
    "def imshow(img):\n",
    "    npimg = img.numpy()\n",
    "    plt.imshow(np.transpose(npimg, (1, 2, 0)))\n",
    "    plt.show()\n",
    "\n",
    "\n",
    "# get some random training images\n",
    "dataiter = iter(trainLoader)\n",
    "images, labels = dataiter.next()\n",
    "\n",
    "# show images\n",
    "imshow(torchvision.utils.make_grid(images))\n",
    "# print labels\n",
    "print(' '.join('%5s' % train_imageList[labels[j]] for j in range(batch_size)))"
   ]
  },
  {
   "cell_type": "markdown",
   "id": "fb769298",
   "metadata": {},
   "source": [
    "Here I defined a CNN with 4 conv2d layers and 3 fully connected layers. "
   ]
  },
  {
   "cell_type": "code",
   "execution_count": 33,
   "id": "5eb74a9e",
   "metadata": {},
   "outputs": [],
   "source": [
    "#Define a Convolutional Neural Network\n",
    "\n",
    "import torch\n",
    "import torch.nn as nn\n",
    "import torch.nn.functional as F\n",
    "\n",
    "\n",
    "class Net(nn.Module):\n",
    "    def __init__(self):\n",
    "        super(Net, self).__init__()\n",
    "        self.conv1 = nn.Conv2d(3, 16, 3 , padding =1 , bias=False) \n",
    "        self.conv2_bn1 = nn.BatchNorm2d(16)       \n",
    "        self.conv2 = nn.Conv2d(16, 32, 3 , padding =1 , bias=False)\n",
    "        self.conv2_bn2 = nn.BatchNorm2d(32)       \n",
    "        self.conv3 = nn.Conv2d(32, 64, 3 , padding =1 , bias=False) \n",
    "        self.conv2_bn3 = nn.BatchNorm2d(64)      \n",
    "        self.conv4 = nn.Conv2d(64, 128, 3 , padding =1 , bias=False) \n",
    "        self.conv2_bn4 = nn.BatchNorm2d(128)\n",
    "        self.pool = nn.MaxPool2d(2, 2)\n",
    "        self.fc1 = nn.Linear(128 *4 *4, 64)    \n",
    "        self.fc1_do = nn.Dropout(p = 0.2)\n",
    "        self.fc2 = nn.Linear(64, 32)\n",
    "        self.fc2_do = nn.Dropout(p = 0.2)\n",
    "        self.fc3 = nn.Linear(32, 4)\n",
    "\n",
    "    def forward(self, x):\n",
    "        x = self.conv1(x) # 3x64x64 -> 16x64x64\n",
    "        x = self.pool(F.relu(self.conv2_bn1(x))) # 16x64x64 -> 16x32x32        \n",
    "        x = self.conv2(x) # 16x32x32 -> 32x32x32\n",
    "        x = self.pool(F.relu(self.conv2_bn2(x))) #  32x32x32 ->  32x16x16        \n",
    "        x = self.conv3(x) #  32x16x16 ->  64x16x16\n",
    "        x = self.pool(F.relu(self.conv2_bn3(x))) #  64x16x16 ->  64x8x8\n",
    "        x = self.conv4(x) #  64x8x8 ->  128x8x8       \n",
    "        x = self.pool(F.relu(self.conv2_bn4(x))) #  128x8x8 ->  128x4x4                \n",
    "        x = torch.flatten(x, 1) # 512\n",
    "        x = F.relu(self.fc1_do(self.fc1(x))) # 120\n",
    "        x = F.relu(self.fc2_do(self.fc2(x))) # 84\n",
    "        x = self.fc3(x) # 4\n",
    "        x = nn.Sigmoid()(x)\n",
    "        return x\n"
   ]
  },
  {
   "cell_type": "code",
   "execution_count": 34,
   "id": "ac09e77d",
   "metadata": {},
   "outputs": [
    {
     "name": "stdout",
     "output_type": "stream",
     "text": [
      "----------------------------------------------------------------\n",
      "        Layer (type)               Output Shape         Param #\n",
      "================================================================\n",
      "            Conv2d-1           [-1, 16, 64, 64]             432\n",
      "       BatchNorm2d-2           [-1, 16, 64, 64]              32\n",
      "         MaxPool2d-3           [-1, 16, 32, 32]               0\n",
      "            Conv2d-4           [-1, 32, 32, 32]           4,608\n",
      "       BatchNorm2d-5           [-1, 32, 32, 32]              64\n",
      "         MaxPool2d-6           [-1, 32, 16, 16]               0\n",
      "            Conv2d-7           [-1, 64, 16, 16]          18,432\n",
      "       BatchNorm2d-8           [-1, 64, 16, 16]             128\n",
      "         MaxPool2d-9             [-1, 64, 8, 8]               0\n",
      "           Conv2d-10            [-1, 128, 8, 8]          73,728\n",
      "      BatchNorm2d-11            [-1, 128, 8, 8]             256\n",
      "        MaxPool2d-12            [-1, 128, 4, 4]               0\n",
      "           Linear-13                   [-1, 64]         131,136\n",
      "          Dropout-14                   [-1, 64]               0\n",
      "           Linear-15                   [-1, 32]           2,080\n",
      "          Dropout-16                   [-1, 32]               0\n",
      "           Linear-17                    [-1, 4]             132\n",
      "================================================================\n",
      "Total params: 231,028\n",
      "Trainable params: 231,028\n",
      "Non-trainable params: 0\n",
      "----------------------------------------------------------------\n",
      "Input size (MB): 0.05\n",
      "Forward/backward pass size (MB): 2.11\n",
      "Params size (MB): 0.88\n",
      "Estimated Total Size (MB): 3.04\n",
      "----------------------------------------------------------------\n"
     ]
    }
   ],
   "source": [
    "# Use torchsummary to visualize the model\n",
    "from torchsummary import summary\n",
    "net = Net()\n",
    "summary(net, input_size=(3, 64, 64))"
   ]
  },
  {
   "cell_type": "markdown",
   "id": "99dd4904",
   "metadata": {},
   "source": [
    "### Optimizer \n",
    "\n",
    "I usd torch.optim to construct an optimizer object. It will hold the current state and will update the parameters based on the computed gradients. I used the stochastic gradient descent method, however, Adam is another method that could be used. \n",
    "\n",
    "I used cross entropy loss as it's commonly used in classification tasks. It measures the performance of a classification model whose output is a probability value between 0 and 1. \n"
   ]
  },
  {
   "cell_type": "code",
   "execution_count": 35,
   "id": "5b1326f1",
   "metadata": {},
   "outputs": [],
   "source": [
    "import torch.optim as optim\n",
    "optimizer = optim.SGD(net.parameters(), lr=0.001, momentum=0.9)"
   ]
  },
  {
   "cell_type": "code",
   "execution_count": 36,
   "id": "9cec75cb",
   "metadata": {},
   "outputs": [],
   "source": [
    "criterion = nn.CrossEntropyLoss()"
   ]
  },
  {
   "cell_type": "code",
   "execution_count": 52,
   "id": "6bc81cf9",
   "metadata": {},
   "outputs": [],
   "source": [
    "#reset network\n",
    "for layer in net.children():\n",
    "   if hasattr(layer, 'reset_parameters'):\n",
    "       layer.reset_parameters()"
   ]
  },
  {
   "cell_type": "markdown",
   "id": "873f2108",
   "metadata": {},
   "source": [
    "### Training the model\n",
    "\n",
    "Here, I trained the model. To see accuracy and loss values, the model being tested in each epoch after being trained.\n",
    "The best model with lowest validation loss will be saved in the directory. "
   ]
  },
  {
   "cell_type": "code",
   "execution_count": 53,
   "id": "0e7eb46f",
   "metadata": {
    "scrolled": true
   },
   "outputs": [
    {
     "name": "stdout",
     "output_type": "stream",
     "text": [
      "epoch: 0\n",
      "Train Loss: 1.340 | Accuracy: 36.377\n",
      "Test Loss: 1.267 | Accuracy: 38.095\n",
      "\n",
      "\n",
      "epoch: 1\n",
      "Train Loss: 1.228 | Accuracy: 45.210\n",
      "Test Loss: 1.140 | Accuracy: 63.095\n",
      "\n",
      "\n",
      "epoch: 2\n",
      "Train Loss: 1.148 | Accuracy: 56.287\n",
      "Test Loss: 1.085 | Accuracy: 69.048\n",
      "\n",
      "\n",
      "epoch: 3\n",
      "Train Loss: 1.097 | Accuracy: 62.874\n",
      "Test Loss: 1.043 | Accuracy: 79.762\n",
      "\n",
      "\n",
      "epoch: 4\n",
      "Train Loss: 1.059 | Accuracy: 68.862\n",
      "Test Loss: 1.009 | Accuracy: 70.238\n",
      "\n",
      "\n",
      "epoch: 5\n",
      "Train Loss: 1.042 | Accuracy: 65.719\n",
      "Test Loss: 1.000 | Accuracy: 72.619\n",
      "\n",
      "\n",
      "epoch: 6\n",
      "Train Loss: 1.014 | Accuracy: 69.012\n",
      "Test Loss: 1.001 | Accuracy: 69.048\n",
      "\n",
      "\n",
      "epoch: 7\n",
      "Train Loss: 0.988 | Accuracy: 73.952\n",
      "Test Loss: 0.997 | Accuracy: 73.810\n",
      "\n",
      "\n",
      "epoch: 8\n",
      "Train Loss: 0.983 | Accuracy: 72.904\n",
      "Test Loss: 0.964 | Accuracy: 82.143\n",
      "\n",
      "\n",
      "epoch: 9\n",
      "Train Loss: 0.972 | Accuracy: 76.946\n",
      "Test Loss: 0.981 | Accuracy: 82.143\n",
      "\n",
      "\n",
      "epoch: 10\n",
      "Train Loss: 0.956 | Accuracy: 77.695\n",
      "Test Loss: 0.958 | Accuracy: 82.143\n",
      "\n",
      "\n",
      "epoch: 11\n",
      "Train Loss: 0.939 | Accuracy: 81.287\n",
      "Test Loss: 0.939 | Accuracy: 79.762\n",
      "\n",
      "\n",
      "epoch: 12\n",
      "Train Loss: 0.933 | Accuracy: 81.287\n",
      "Test Loss: 0.979 | Accuracy: 70.238\n",
      "\n",
      "\n",
      "epoch: 13\n",
      "Train Loss: 0.911 | Accuracy: 83.234\n",
      "Test Loss: 0.922 | Accuracy: 84.524\n",
      "\n",
      "\n",
      "epoch: 14\n",
      "Train Loss: 0.895 | Accuracy: 84.581\n",
      "Test Loss: 0.944 | Accuracy: 72.619\n",
      "\n",
      "\n",
      "epoch: 15\n",
      "Train Loss: 0.894 | Accuracy: 84.132\n",
      "Test Loss: 0.886 | Accuracy: 85.714\n",
      "\n",
      "\n",
      "epoch: 16\n",
      "Train Loss: 0.883 | Accuracy: 85.778\n",
      "Test Loss: 1.016 | Accuracy: 70.238\n",
      "\n",
      "\n",
      "epoch: 17\n",
      "Train Loss: 0.876 | Accuracy: 86.377\n",
      "Test Loss: 0.930 | Accuracy: 76.190\n",
      "\n",
      "\n",
      "epoch: 18\n",
      "Train Loss: 0.864 | Accuracy: 89.072\n",
      "Test Loss: 0.905 | Accuracy: 79.762\n",
      "\n",
      "\n",
      "epoch: 19\n",
      "Train Loss: 0.851 | Accuracy: 89.521\n",
      "Test Loss: 0.960 | Accuracy: 71.429\n",
      "\n",
      "\n",
      "epoch: 20\n",
      "Train Loss: 0.852 | Accuracy: 89.072\n",
      "Test Loss: 0.894 | Accuracy: 82.143\n",
      "\n",
      "\n",
      "epoch: 21\n",
      "Train Loss: 0.854 | Accuracy: 90.269\n",
      "Test Loss: 0.871 | Accuracy: 85.714\n",
      "\n",
      "\n",
      "epoch: 22\n",
      "Train Loss: 0.838 | Accuracy: 91.467\n",
      "Test Loss: 0.847 | Accuracy: 89.286\n",
      "\n",
      "\n",
      "epoch: 23\n",
      "Train Loss: 0.836 | Accuracy: 90.569\n",
      "Test Loss: 0.851 | Accuracy: 88.095\n",
      "\n",
      "\n",
      "epoch: 24\n",
      "Train Loss: 0.819 | Accuracy: 93.413\n",
      "Test Loss: 0.836 | Accuracy: 89.286\n",
      "\n",
      "\n",
      "epoch: 25\n",
      "Train Loss: 0.813 | Accuracy: 94.162\n",
      "Test Loss: 0.879 | Accuracy: 83.333\n",
      "\n",
      "\n",
      "epoch: 26\n",
      "Train Loss: 0.811 | Accuracy: 93.713\n",
      "Test Loss: 0.935 | Accuracy: 77.381\n",
      "\n",
      "\n",
      "epoch: 27\n",
      "Train Loss: 0.818 | Accuracy: 92.964\n",
      "Test Loss: 0.885 | Accuracy: 85.714\n",
      "\n",
      "\n",
      "epoch: 28\n",
      "Train Loss: 0.813 | Accuracy: 93.263\n",
      "Test Loss: 0.874 | Accuracy: 86.905\n",
      "\n",
      "\n",
      "epoch: 29\n",
      "Train Loss: 0.799 | Accuracy: 95.210\n",
      "Test Loss: 0.862 | Accuracy: 86.905\n",
      "\n",
      "\n",
      "epoch: 30\n",
      "Train Loss: 0.794 | Accuracy: 95.808\n",
      "Test Loss: 0.925 | Accuracy: 82.143\n",
      "\n",
      "\n",
      "epoch: 31\n",
      "Train Loss: 0.806 | Accuracy: 94.760\n",
      "Test Loss: 0.916 | Accuracy: 80.952\n",
      "\n",
      "\n",
      "epoch: 32\n",
      "Train Loss: 0.800 | Accuracy: 95.210\n",
      "Test Loss: 0.893 | Accuracy: 82.143\n",
      "\n",
      "\n",
      "epoch: 33\n",
      "Train Loss: 0.785 | Accuracy: 96.557\n",
      "Test Loss: 0.857 | Accuracy: 85.714\n",
      "\n",
      "\n",
      "epoch: 34\n",
      "Train Loss: 0.780 | Accuracy: 97.006\n",
      "Test Loss: 0.857 | Accuracy: 86.905\n",
      "\n",
      "\n",
      "epoch: 35\n",
      "Train Loss: 0.788 | Accuracy: 95.808\n",
      "Test Loss: 0.832 | Accuracy: 90.476\n",
      "\n",
      "\n",
      "epoch: 36\n",
      "Train Loss: 0.787 | Accuracy: 96.257\n",
      "Test Loss: 0.860 | Accuracy: 89.286\n",
      "\n",
      "\n",
      "epoch: 37\n",
      "Train Loss: 0.778 | Accuracy: 97.156\n",
      "Test Loss: 1.014 | Accuracy: 69.048\n",
      "\n",
      "\n",
      "epoch: 38\n",
      "Train Loss: 0.781 | Accuracy: 96.707\n",
      "Test Loss: 0.843 | Accuracy: 89.286\n",
      "\n",
      "\n",
      "epoch: 39\n",
      "Train Loss: 0.772 | Accuracy: 97.904\n",
      "Test Loss: 0.846 | Accuracy: 86.905\n",
      "\n",
      "\n",
      "epoch: 40\n",
      "Train Loss: 0.772 | Accuracy: 98.204\n",
      "Test Loss: 0.875 | Accuracy: 84.524\n",
      "\n",
      "\n",
      "epoch: 41\n",
      "Train Loss: 0.770 | Accuracy: 98.353\n",
      "Test Loss: 0.821 | Accuracy: 92.857\n",
      "\n",
      "\n",
      "epoch: 42\n",
      "Train Loss: 0.779 | Accuracy: 96.707\n",
      "Test Loss: 0.838 | Accuracy: 91.667\n",
      "\n",
      "\n",
      "epoch: 43\n",
      "Train Loss: 0.772 | Accuracy: 97.455\n",
      "Test Loss: 0.821 | Accuracy: 92.857\n",
      "\n",
      "\n",
      "epoch: 44\n",
      "Train Loss: 0.775 | Accuracy: 97.455\n",
      "Test Loss: 0.843 | Accuracy: 86.905\n",
      "\n",
      "\n",
      "epoch: 45\n",
      "Train Loss: 0.775 | Accuracy: 97.904\n",
      "Test Loss: 0.835 | Accuracy: 89.286\n",
      "\n",
      "\n",
      "epoch: 46\n",
      "Train Loss: 0.769 | Accuracy: 98.204\n",
      "Test Loss: 0.871 | Accuracy: 84.524\n",
      "\n",
      "\n",
      "epoch: 47\n",
      "Train Loss: 0.768 | Accuracy: 97.904\n",
      "Test Loss: 0.841 | Accuracy: 86.905\n",
      "\n",
      "\n",
      "epoch: 48\n",
      "Train Loss: 0.771 | Accuracy: 97.305\n",
      "Test Loss: 0.890 | Accuracy: 82.143\n",
      "\n",
      "\n",
      "epoch: 49\n",
      "Train Loss: 0.770 | Accuracy: 97.754\n",
      "Test Loss: 0.848 | Accuracy: 89.286\n",
      "\n",
      "\n",
      "epoch: 50\n",
      "Train Loss: 0.771 | Accuracy: 97.455\n",
      "Test Loss: 0.845 | Accuracy: 90.476\n",
      "\n",
      "\n",
      "epoch: 51\n",
      "Train Loss: 0.767 | Accuracy: 98.204\n",
      "Test Loss: 0.850 | Accuracy: 84.524\n",
      "\n",
      "\n",
      "epoch: 52\n",
      "Train Loss: 0.766 | Accuracy: 98.353\n",
      "Test Loss: 0.824 | Accuracy: 92.857\n",
      "\n",
      "\n",
      "epoch: 53\n",
      "Train Loss: 0.764 | Accuracy: 98.353\n",
      "Test Loss: 0.858 | Accuracy: 86.905\n",
      "\n",
      "\n",
      "epoch: 54\n",
      "Train Loss: 0.762 | Accuracy: 98.503\n",
      "Test Loss: 0.820 | Accuracy: 90.476\n",
      "\n",
      "\n",
      "epoch: 55\n",
      "Train Loss: 0.769 | Accuracy: 98.054\n",
      "Test Loss: 0.791 | Accuracy: 95.238\n",
      "\n",
      "\n",
      "epoch: 56\n",
      "Train Loss: 0.766 | Accuracy: 97.904\n",
      "Test Loss: 0.822 | Accuracy: 91.667\n",
      "\n",
      "\n",
      "epoch: 57\n",
      "Train Loss: 0.767 | Accuracy: 98.204\n",
      "Test Loss: 0.833 | Accuracy: 90.476\n",
      "\n",
      "\n",
      "epoch: 58\n",
      "Train Loss: 0.757 | Accuracy: 99.102\n",
      "Test Loss: 0.815 | Accuracy: 92.857\n",
      "\n",
      "\n",
      "epoch: 59\n",
      "Train Loss: 0.758 | Accuracy: 98.952\n",
      "Test Loss: 0.835 | Accuracy: 88.095\n",
      "\n",
      "\n",
      "Finished Training\n"
     ]
    }
   ],
   "source": [
    "train_losses=[]\n",
    "train_accu=[]\n",
    "eval_losses=[]\n",
    "eval_accu=[]\n",
    "best_val_loss = 100000\n",
    "\n",
    "for epoch in range(60):  # loop over the dataset multiple times\n",
    "    correct_tr = 0\n",
    "    total_tr = 0\n",
    "    running_loss_tr = 0.0\n",
    "    \n",
    "    net.train() # traing mode\n",
    "    for i, data in enumerate(trainLoader, 0):\n",
    "        # get the inputs; data is a list of [inputs, labels]\n",
    "        inputs, labels = data\n",
    "\n",
    "        # zero the parameter gradients\n",
    "        optimizer.zero_grad()\n",
    "\n",
    "        # forward + backward + optimize\n",
    "        outputs = net(inputs.float() )\n",
    "        loss = criterion(outputs, labels)\n",
    "        loss.backward()\n",
    "        optimizer.step()\n",
    "        \n",
    "        # the class with the highest energy is what we choose as prediction\n",
    "        _, predicted = torch.max(outputs.data, 1)\n",
    "        total_tr += labels.size(0)\n",
    "        correct_tr += (predicted == labels).sum().item()\n",
    "\n",
    "        # sum of losses\n",
    "        running_loss_tr += loss.item()\n",
    "            \n",
    "   \n",
    "    net.eval() \n",
    "    correct_val = 0\n",
    "    total_val = 0\n",
    "    running_loss_valid = 0.0\n",
    "    \n",
    "    # since we're not training, we don't need to calculate the gradients for our outputs\n",
    "    with torch.no_grad():\n",
    "        for data in validLoader:\n",
    "            images, labels = data\n",
    "            # calculate outputs by running images through the network\n",
    "            outputs = net(images.float())\n",
    "            loss = criterion(outputs, labels)\n",
    "            # the class with the highest energy is what we choose as prediction\n",
    "            _, predicted = torch.max(outputs.data, 1)\n",
    "            total_val += labels.size(0)\n",
    "            correct_val += (predicted == labels).sum().item()\n",
    "            \n",
    "            # sum of losses\n",
    "            running_loss_valid += loss.item()\n",
    "    print('epoch: %.0f' %(epoch))\n",
    "    # print Accuracy and losses for train set in each epoch\n",
    "    train_loss=running_loss_tr/len(trainLoader)\n",
    "    tr_accu = 100 * correct_tr / total_tr\n",
    "    \n",
    "    train_losses.append(train_loss)\n",
    "    train_accu.append(tr_accu)\n",
    "    print('Train Loss: %.3f | Accuracy: %.3f'%(train_loss,tr_accu))\n",
    "    \n",
    "    # print Accuracy and losses for test set in each epoch\n",
    "    valid_loss=running_loss_valid/len(validLoader)\n",
    "    valid_accu = 100 * correct_val / total_val\n",
    "\n",
    "    eval_losses.append(valid_loss)\n",
    "    eval_accu.append(valid_accu)\n",
    "\n",
    "    print('Test Loss: %.3f | Accuracy: %.3f'%(valid_loss,valid_accu)) \n",
    "    \n",
    "    #stopping criteria when reached to lowest validation loss \n",
    "    if valid_loss < best_val_loss:\n",
    "        best_val_loss = valid_loss\n",
    "        tPATH = f'./weather_net_{epoch}_{int(valid_loss)}_{int(valid_accu)}.pth'\n",
    "        torch.save(net.state_dict(), tPATH)\n",
    "    if valid_loss >  best_val_loss + 1:\n",
    "        print('early stop')\n",
    "        break \n",
    "    print('\\n')\n",
    "   \n",
    "print('Finished Training')"
   ]
  },
  {
   "cell_type": "markdown",
   "id": "36d8a36f",
   "metadata": {},
   "source": [
    "### Accuracy and loss\n",
    "\n",
    "The first plot shows the accuracy of the training set vs test set, and second plot shows the losses of the training set vs test set.\n",
    "As in the plots we can see the accuracy stopes around 96%. "
   ]
  },
  {
   "cell_type": "code",
   "execution_count": 54,
   "id": "aa8bb040",
   "metadata": {},
   "outputs": [
    {
     "data": {
      "image/png": "[encoded data removed]",
      "text/plain": [
       "<Figure size 432x288 with 1 Axes>"
      ]
     },
     "metadata": {
      "needs_background": "light"
     },
     "output_type": "display_data"
    }
   ],
   "source": [
    "#plot accuracy\n",
    "\n",
    "plt.plot(train_accu,'-o')\n",
    "plt.plot(eval_accu,'-o')\n",
    "plt.xlabel('epoch')\n",
    "plt.ylabel('accuracy')\n",
    "plt.legend(['Train','Valid'])\n",
    "plt.title('Train vs Valid Accuracy')\n",
    "\n",
    "plt.show()\n"
   ]
  },
  {
   "cell_type": "code",
   "execution_count": 55,
   "id": "223405d3",
   "metadata": {},
   "outputs": [
    {
     "data": {
      "image/png": "[encoded data removed]",
      "text/plain": [
       "<Figure size 432x288 with 1 Axes>"
      ]
     },
     "metadata": {
      "needs_background": "light"
     },
     "output_type": "display_data"
    }
   ],
   "source": [
    "#plot losses\n",
    "\n",
    "plt.plot(train_losses,'-o')\n",
    "plt.plot(eval_losses,'-o')\n",
    "plt.xlabel('epoch')\n",
    "plt.ylabel('losses')\n",
    "plt.legend(['Train','Valid'])\n",
    "plt.title('Train vs Valid Losses')\n",
    "\n",
    "plt.show()"
   ]
  },
  {
   "cell_type": "markdown",
   "id": "6aca8108",
   "metadata": {},
   "source": [
    "## Use the Model "
   ]
  },
  {
   "cell_type": "markdown",
   "id": "8d41e007",
   "metadata": {},
   "source": [
    "For prediction, we load the best model and run the network to test the test_dataset. \n",
    "The model was able to predict the test images with 96% accuracy.  \n",
    "Below you can see 4 example images with the predictions and the grand truth labels. Where {0: cloudy,  1: rain, 2: shine, 3: sunrise}."
   ]
  },
  {
   "cell_type": "code",
   "execution_count": 56,
   "id": "ca45fde4",
   "metadata": {},
   "outputs": [
    {
     "data": {
      "text/plain": [
       "<All keys matched successfully>"
      ]
     },
     "execution_count": 56,
     "metadata": {},
     "output_type": "execute_result"
    }
   ],
   "source": [
    "# load the best model  \n",
    "Best_Model_Path = './weather_net_55_0_95.pth'  \n",
    "net.load_state_dict(torch.load(Best_Model_Path))"
   ]
  },
  {
   "cell_type": "code",
   "execution_count": 91,
   "id": "01230492",
   "metadata": {},
   "outputs": [
    {
     "name": "stdout",
     "output_type": "stream",
     "text": [
      "Accuracy for class cloudy is: 96.8 %\n",
      "Accuracy for class rain  is: 95.8 %\n",
      "Accuracy for class shine is: 95.7 %\n",
      "Accuracy for class sunrise is: 83.3 %\n",
      "\n",
      " Confusion Matrix\n",
      "[[30  1  0  0]\n",
      " [ 0 23  1  0]\n",
      " [ 1  0 22  0]\n",
      " [ 0  0  1  5]]\n",
      "\n",
      "F1 [0.96774194 0.95833333 0.93617021 0.90909091]\n",
      "Sensitivity [0.96774194 0.95833333 0.95652174 0.83333333]\n",
      "Precision [0.96774194 0.95833333 0.91666667 1.        ]\n",
      "Accuracy 0.9523809523809523\n"
     ]
    }
   ],
   "source": [
    "from sklearn.metrics import f1_score, confusion_matrix, recall_score, precision_score, accuracy_score\n",
    "classes = ('cloudy', 'rain', 'shine', 'sunrise')\n",
    "correct_pred = {classname: 0 for classname in classes}\n",
    "total_pred = {classname: 0 for classname in classes}\n",
    "\n",
    "y_true = []\n",
    "y_pred = []\n",
    "# since we're not training, we don't need to calculate the gradients for our outputs\n",
    "with torch.no_grad():\n",
    "    for data in testLoader:\n",
    "        images, labels = data\n",
    "        # calculate outputs by running images through the network\n",
    "        outputs = net(images.float())\n",
    "        # the class with the highest energy is what we choose as prediction\n",
    "        _, predictions = torch.max(outputs.data, 1)\n",
    "        for i in range(predictions.shape[0]):\n",
    "            y_true.append(labels[i])\n",
    "            y_pred.append(predictions[i])\n",
    "        # collect the correct predictions for each class\n",
    "        for label, prediction in zip(labels, predictions):\n",
    "            if label == prediction:\n",
    "                correct_pred[classes[label]] += 1\n",
    "            total_pred[classes[label]] += 1\n",
    "\n",
    "# print accuracy for each class\n",
    "for classname, correct_count in correct_pred.items():\n",
    "    accuracy = 100 * float(correct_count) / total_pred[classname]\n",
    "    print(\"Accuracy for class {:5s} is: {:.1f} %\".format(classname, accuracy))\n",
    "    \n",
    "# print confusion matrix\n",
    "print ('\\n Confusion Matrix')\n",
    "print (confusion_matrix(y_true, y_pred))\n",
    "\n",
    "print ('\\nF1', f1_score(y_true, y_pred, average=None))\n",
    "print ('Sensitivity', recall_score(y_true, y_pred, average=None))\n",
    "print ('Precision', precision_score(y_true, y_pred, average=None))\n",
    "print ('Accuracy', accuracy_score(y_true, y_pred)) \n"
   ]
  },
  {
   "cell_type": "code",
   "execution_count": 92,
   "id": "545c809e",
   "metadata": {},
   "outputs": [
    {
     "name": "stdout",
     "output_type": "stream",
     "text": [
      "Predicted: tensor([1, 0, 3, 0])\n"
     ]
    },
    {
     "data": {
      "image/png": "[encoded data removed]",
      "text/plain": [
       "<Figure size 432x288 with 1 Axes>"
      ]
     },
     "metadata": {
      "needs_background": "light"
     },
     "output_type": "display_data"
    },
    {
     "name": "stdout",
     "output_type": "stream",
     "text": [
      "GroundTruth: tensor([1, 0, 3, 0])\n"
     ]
    }
   ],
   "source": [
    "print(f'Predicted: {str(predicted)}')\n",
    "imshow(torchvision.utils.make_grid(images))\n",
    "print(f'GroundTruth: {labels}')"
   ]
  },
  {
   "cell_type": "markdown",
   "id": "7919be5d",
   "metadata": {},
   "source": [
    "# Next steps"
   ]
  },
  {
   "cell_type": "markdown",
   "id": "93a50f19",
   "metadata": {},
   "source": [
    "Furture evaluation could be done on this assignmnet. \n",
    "For example see the confusion matrix and see compare the accuracy of the model for each classes. \n",
    "The dataset is relatively small and unbalanced (#rain=213, #cloudy=300, #sunrise=70, #shine=253), it could be augmented by flipping images.\n",
    "I used the simples CNN model, which was enough for this task. However, more complex networks could be investigated for  classification.\n",
    "\n"
   ]
  },
  {
   "cell_type": "code",
   "execution_count": null,
   "id": "c9c8bc94",
   "metadata": {},
   "outputs": [],
   "source": []
  }
 ],
 "metadata": {
  "kernelspec": {
   "display_name": "Python 3 (ipykernel)",
   "language": "python",
   "name": "python3"
  },
  "language_info": {
   "codemirror_mode": {
    "name": "ipython",
    "version": 3
   },
   "file_extension": ".py",
   "mimetype": "text/x-python",
   "name": "python",
   "nbconvert_exporter": "python",
   "pygments_lexer": "ipython3",
   "version": "3.9.9"
  }
 },
 "nbformat": 4,
 "nbformat_minor": 5
}
